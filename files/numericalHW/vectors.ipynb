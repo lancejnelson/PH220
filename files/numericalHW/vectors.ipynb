{
 "cells": [
  {
   "cell_type": "markdown",
   "metadata": {},
   "source": [
    "# Overview"
   ]
  },
  {
   "cell_type": "markdown",
   "metadata": {},
   "source": [
    "In this assignment you will learn how to:\n",
    "\n",
    "1. Read in data files.\n",
    "2. Perform some mathematical calculations on that data.\n",
    "2. Print the result.\n",
    "\n"
   ]
  },
  {
   "cell_type": "markdown",
   "metadata": {},
   "source": [
    "# Sample Problem"
   ]
  },
  {
   "cell_type": "markdown",
   "metadata": {},
   "source": [
    "The code block below solves the following problem:  \n",
    "\n",
    "### Problem Statement\n",
    "[Here](https://drive.google.com/file/d/1FN9rQRp5u8ymTEzdaTdgKEpXpgMoKc-A/view?usp=sharing) you will find a file with some data in it. The file contains a list of 10, three-dimensional vectors, in **component form**.  Calculate the length of each vector and the angle each one makes with respect to the +x axis. \n",
    "\n",
    "Note: The data file must be located in the same directory as this file.  \n",
    "\n",
    "\n",
    "1. Execute the code and observe that the results seem reasonable.\n",
    "2. Add a comment next to **each line of code**.\n",
    "\n"
   ]
  },
  {
   "cell_type": "code",
   "execution_count": 12,
   "metadata": {},
   "outputs": [
    {
     "name": "stdout",
     "output_type": "stream",
     "text": [
      "Vector 1 has length 174.54 and angle 84.13 degrees\n",
      "Vector 2 has length 307.78 and angle 86.31 degrees\n",
      "Vector 3 has length 173.52 and angle 89.15 degrees\n",
      "Vector 4 has length 89.24 and angle 82.91 degrees\n",
      "Vector 5 has length 304.97 and angle 87.51 degrees\n"
     ]
    }
   ],
   "source": [
    "from numpy import sin, cos,array,loadtxt,arctan,pi\n",
    "\n",
    "\n",
    "data = loadtxt('sampleData.txt')  \n",
    "\n",
    "for idx,vec in enumerate(data):\n",
    "    theta = arctan(vec[1]/vec[0]) * 180/pi\n",
    "    magnitude = norm(vec)\n",
    "    print(\"Vector {:d} has length {:5.2f} and angle {:5.2f} degrees\".format(idx+1,magnitude,theta))\n",
    "\n"
   ]
  },
  {
   "cell_type": "markdown",
   "metadata": {},
   "source": [
    "# Your Problem"
   ]
  },
  {
   "cell_type": "markdown",
   "metadata": {},
   "source": [
    "Use what you learned to solve the following problem:\n",
    "\n",
    "### Problem Statement\n",
    "\n",
    "You and your friends are searching for a lost treasure that is located\n",
    "somewhere in the United States.  Instead of a traditional treasure\n",
    "map, you have gained access to a file which contains a list of\n",
    "vectors.([download here](https://lancejnelson.github.io/PH121/files/numericalHW/vectorsdata.txt)) You suspect that the location of the treasure can be found by\n",
    "adding up all of the vectors.  Each line in the file contains two\n",
    "numbers.  The first number is the magnitude of the vector (in miles)\n",
    "and the second number is the angle that the vector points in a\n",
    "cartesian coordinate system (in degrees).  Use python to find\n",
    "what state the treasure is located in.  Your starting point is\n",
    "Rexburg.  \n",
    "\n",
    "Tips:  \n",
    "\n",
    "1. When you convert the vectors to component form, don't forget that the cosine and sine functions expect numbers in radians, not degrees.\n",
    "2. There is a tool in google maps that will help you find the state once you have the displacement vector.  Follow the steps below to use it\n",
    "  1. Right click on Rexburg and click \"measure distance\"\n",
    "  2. Left click somewhere else on the map\n",
    "  3. Drag the second point until it approximately forms the vector that you found."
   ]
  },
  {
   "cell_type": "code",
   "execution_count": null,
   "metadata": {},
   "outputs": [],
   "source": []
  }
 ],
 "metadata": {
  "kernelspec": {
   "display_name": "Python 3",
   "language": "python",
   "name": "python3"
  },
  "language_info": {
   "codemirror_mode": {
    "name": "ipython",
    "version": 3
   },
   "file_extension": ".py",
   "mimetype": "text/x-python",
   "name": "python",
   "nbconvert_exporter": "python",
   "pygments_lexer": "ipython3",
   "version": "3.7.6"
  }
 },
 "nbformat": 4,
 "nbformat_minor": 4
}
