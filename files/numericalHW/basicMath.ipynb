{
 "cells": [
  {
   "cell_type": "markdown",
   "metadata": {},
   "source": [
    "# Overview"
   ]
  },
  {
   "cell_type": "markdown",
   "metadata": {},
   "source": [
    "In this assignment you will learn how to use python to perform some simple math calculations. "
   ]
  },
  {
   "cell_type": "markdown",
   "metadata": {},
   "source": [
    "# Simple Calculations"
   ]
  },
  {
   "cell_type": "markdown",
   "metadata": {},
   "source": [
    "Simple mathematical calculations are performed mostly as you would expect.  Examine the code in the cell below and then execute the cell and verify that the results are what you would expect."
   ]
  },
  {
   "cell_type": "code",
   "execution_count": 6,
   "metadata": {},
   "outputs": [
    {
     "name": "stdout",
     "output_type": "stream",
     "text": [
      "25 25 1.5 70.0\n"
     ]
    }
   ],
   "source": [
    "a = 5 * 5  # Multiply two numbers together\n",
    "b = 5**2   # Raise a number to a power\n",
    "c = 3/2. # Divide two numbers\n",
    "d = (5 + 2) * 10. # If you want to over-ride standard order of operations, use parenthesis\n",
    "\n",
    "print(a,b,c,d)  # You won't see anything when you execute this code without this line,which prints the results"
   ]
  },
  {
   "cell_type": "markdown",
   "metadata": {},
   "source": [
    "# More Advanced Calculations"
   ]
  },
  {
   "cell_type": "markdown",
   "metadata": {},
   "source": [
    "For more advanced mathematical calculations, you will need to import the appropriate function.  Examine the code and comments in the cell below.  Then execute the cell and verify that the results are correct.\n"
   ]
  },
  {
   "cell_type": "code",
   "execution_count": 10,
   "metadata": {},
   "outputs": [
    {
     "name": "stdout",
     "output_type": "stream",
     "text": [
      "-0.4480736161291701\n",
      "7.0710678118654755 6.907755278982137 15.707963267948966 2.0\n"
     ]
    }
   ],
   "source": [
    "from numpy import sqrt # Here I import the function \"sqrt\" from the libray called numpy (numerical python)\n",
    "\n",
    "a = sqrt(50)  # Now I can use the function just as you would expect.\n",
    "\n",
    "\n",
    "from numpy import log # Here I import the natural log function from the numpy library.\n",
    "\n",
    "b = log(1000)\n",
    "\n",
    "from numpy import pi #Some special numbers are also available for import.\n",
    "\n",
    "c = 5 * pi\n",
    "\n",
    "from numpy import sin, cos # I can import multiple functions at once.  \n",
    "\n",
    "d = cos(2* pi) + sin(pi/2)  # Note that angles are always assumed to be in radians.  \n",
    "\n",
    "e = cos(90)  #See... this did not calculate the cosine of 90 degrees, but 90 radians. (cos(90 degrees) = 0)\n",
    "print(e)\n",
    "\n",
    "print(a,b,c,d)  # Print the results"
   ]
  },
  {
   "cell_type": "markdown",
   "metadata": {},
   "source": [
    " # Scientific Notation"
   ]
  },
  {
   "cell_type": "markdown",
   "metadata": {},
   "source": [
    "You can use scientific notation in calculations using the letter \"e\".  See the cell below for an example:"
   ]
  },
  {
   "cell_type": "code",
   "execution_count": 9,
   "metadata": {},
   "outputs": [
    {
     "name": "stdout",
     "output_type": "stream",
     "text": [
      "0.005\n",
      "0.0055\n"
     ]
    }
   ],
   "source": [
    "a = 5e-3\n",
    "print(a)\n",
    "b = 5e-4\n",
    "c = a + b\n",
    "print(c)"
   ]
  },
  {
   "cell_type": "markdown",
   "metadata": {},
   "source": [
    "# Exercises"
   ]
  },
  {
   "cell_type": "markdown",
   "metadata": {},
   "source": [
    "## Simple Calculations"
   ]
  },
  {
   "cell_type": "markdown",
   "metadata": {},
   "source": [
    "In the cell below, perform the following calculations:\n",
    "\n",
    "$5 \\cos^2(23^\\circ) + 3  e^{10}$\n",
    "\n",
    "$5 \\sqrt{50} + 67^{2\\over 3} $\n",
    "\n",
    "$ 5 \\cosh{20^\\circ} + 8 \\sinh{9^\\circ}$\n",
    "\n",
    "Then verify that you did them correctly using a trusted calculator and/or classmate."
   ]
  },
  {
   "cell_type": "code",
   "execution_count": null,
   "metadata": {},
   "outputs": [],
   "source": []
  },
  {
   "cell_type": "markdown",
   "metadata": {},
   "source": [
    "## Using Variables"
   ]
  },
  {
   "cell_type": "markdown",
   "metadata": {},
   "source": [
    "When performing a lengthy calculation it is often valuable to use variables to store numerical values. You may have noticed that in the examples above I used the (rather generic) variables: a,b,c,d etc.  It is better to use more meaningful names for your variables.   In the cell below, define the following variables:\n",
    "\n",
    "xi = 5\n",
    "\n",
    "vi = 10\n",
    "\n",
    "deltaT = 23\n",
    "\n",
    "a = -3\n",
    "\n",
    "and then use them to calculate $x_f$, using the equation\n",
    "\n",
    "$x_f = x_i + v_i \\Delta t + {1\\over 2} a \\Delta t^2$"
   ]
  },
  {
   "cell_type": "code",
   "execution_count": null,
   "metadata": {},
   "outputs": [],
   "source": []
  },
  {
   "cell_type": "markdown",
   "metadata": {},
   "source": [
    "Once completed, upload a pdf of this notebook to the appropriate submission box on i-Learn."
   ]
  }
 ],
 "metadata": {
  "kernelspec": {
   "display_name": "Python 3",
   "language": "python",
   "name": "python3"
  },
  "language_info": {
   "codemirror_mode": {
    "name": "ipython",
    "version": 3
   },
   "file_extension": ".py",
   "mimetype": "text/x-python",
   "name": "python",
   "nbconvert_exporter": "python",
   "pygments_lexer": "ipython3",
   "version": "3.7.6"
  }
 },
 "nbformat": 4,
 "nbformat_minor": 4
}
