{
 "cells": [
  {
   "cell_type": "markdown",
   "metadata": {},
   "source": [
    "# Overview"
   ]
  },
  {
   "cell_type": "markdown",
   "metadata": {},
   "source": [
    "In this assignment I will solve a problem that would be too hard to do by hand.  You will be asked to look at the solution and add comments to show that you understand.  Once you understand, you will modify the code slightly to solve a modified version of the problem."
   ]
  },
  {
   "cell_type": "markdown",
   "metadata": {},
   "source": [
    "## Problem Statement"
   ]
  },
  {
   "attachments": {},
   "cell_type": "markdown",
   "metadata": {},
   "source": [
    "Sixteen 1.0-nC point charges are arranged in the configuration shown in the figure below:\n",
    "\n",
    "![Image of Point Charges](https://drive.google.com/uc?export=view&id=1sP1V9ASIcylTOkthisczjQXzVduugE4R)\n",
    "\n",
    "\n",
    "Find the electric field vector at the point indicated by the dot in the figure.\n",
    "\n",
    "\n",
    "The code in the cell below solves this problem.  \n",
    "\n",
    "1. Carefully analyze each line of code and add comments describing what is happening.\n",
    "2. Execute the cell and verify that the electric field vector is $ \\vec{E} = -7.35 \\times 10^4 \\hat{i} -7.35 \\times 10^4 \\hat{j}$.\n",
    "3.  Modify the code so it calculates the electric field at the point $r = -0.5 \\hat{i} + 0.5 \\hat{j}$ cm.  The answer should be: $ \\vec{E} = 3.20 \\times 10^4 \\hat{i} -3.20 \\times 10^4 \\hat{j}$"
   ]
  },
  {
   "cell_type": "code",
   "execution_count": 3,
   "metadata": {},
   "outputs": [
    {
     "name": "stdout",
     "output_type": "stream",
     "text": [
      "The components of the electric field at r = [-0.01, 0.01] are [32007.35,-32007.35]\n"
     ]
    }
   ],
   "source": [
    "from numpy import array\n",
    "from numpy.linalg import norm\n",
    "\n",
    "charges = array([[2e-2, 0,1e-9], [2e-2, 1e-2,1e-9], [2e-2, 2e-2,1e-9], [1e-2, 2e-2,1e-9], [0, 2e-2,1e-9], [-1e-2, 2e-2,1e-9], [-2e-2, 2e-2,1e-9], [-2e-2, 1e-2,1e-9], \\\n",
    "[-2e-2, 0,1e-9], [-2e-2, -1e-2,1e-9], [-2e-2, -2e-2,1e-9], [-1e-2, -2e-2,1e-9], [0, -2e-2,1e-9], [1e-2, -2e-2,1e-9], [2e-2, -2e-2,1e-9], [2e-2, \\\n",
    "-1e-2,1e-9]]) \n",
    "\n",
    "\n",
    "Ex = 0\n",
    "Ey = 0\n",
    "k = 8.99e9\n",
    "r = array([1,1]) * 0.01\n",
    "for charge in charges:\n",
    "    diffVec = r - array(charge[:2])\n",
    "    E = k * charge[2]/norm(diffVec)**2\n",
    "    Ex += E *  diffVec[0]/norm(diffVec)\n",
    "    Ey += E * diffVec[1]/norm(diffVec)\n",
    "    \n",
    "print(\"The components of the electric field at r = [{:5.2f},{:5.2f}] are [{:5.2f},{:5.2f}]\".format(r[0],r[1],Ex,Ey))\n",
    "    "
   ]
  },
  {
   "cell_type": "markdown",
   "metadata": {},
   "source": [
    "## Similar Problem"
   ]
  },
  {
   "cell_type": "markdown",
   "metadata": {},
   "source": [
    "Now, use your new python skills to solve a similar problem:\n",
    "\n",
    "Point charges are placed on the edge of a clock (2.0 cm in diameter) at each hour mark.  -3.0 nC charges are placed on the upper half of the clock (9,10,11,12,1,2 o'clock) and +5.0 nC charges are placed on the bottom half of the clock (3,4,5,6,7,8 o'clock).  Find the electric field at the center of the clock.\n",
    "\n"
   ]
  },
  {
   "cell_type": "code",
   "execution_count": null,
   "metadata": {},
   "outputs": [],
   "source": []
  },
  {
   "cell_type": "markdown",
   "metadata": {},
   "source": [
    "Once completed, upload a pdf of this notebook to the appropriate submission folder on i-Learn"
   ]
  }
 ],
 "metadata": {
  "kernelspec": {
   "display_name": "Python 3",
   "language": "python",
   "name": "python3"
  },
  "language_info": {
   "codemirror_mode": {
    "name": "ipython",
    "version": 3
   },
   "file_extension": ".py",
   "mimetype": "text/x-python",
   "name": "python",
   "nbconvert_exporter": "python",
   "pygments_lexer": "ipython3",
   "version": "3.7.6"
  }
 },
 "nbformat": 4,
 "nbformat_minor": 4
}
