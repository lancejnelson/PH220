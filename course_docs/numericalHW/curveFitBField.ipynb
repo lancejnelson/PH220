{
 "cells": [
  {
   "cell_type": "markdown",
   "metadata": {},
   "source": [
    "# Overview\n",
    "In this assignment, you will practice something that you have already done before: curve fitting.  Below you will find the same explanation from a previous assignment to help refresh your memory.\n",
    "\n",
    "## Fitting data to a function.\n",
    "\n",
    "Often in science, we collect data and then want to find a function that fits the data.  This process of gathering data and then finding a function that fits the data often uncovers useful relationships between the physical quantities.\n",
    "\n",
    "Imagine that you have the following data involving the velocity of an object at various times."
   ]
  },
  {
   "cell_type": "code",
   "execution_count": 2,
   "metadata": {},
   "outputs": [
    {
     "data": {
      "image/png": "[encoded data removed]",
      "text/plain": [
       "<Figure size 432x288 with 1 Axes>"
      ]
     },
     "metadata": {
      "needs_background": "light"
     },
     "output_type": "display_data"
    }
   ],
   "source": [
    "t = [1.3,3.5,7.3,12.6]\n",
    "v = [10.1,14.7,22.3,30.1]\n",
    "from matplotlib import pyplot\n",
    "pyplot.plot(t,v,'.',ms = 18)\n",
    "pyplot.show()"
   ]
  },
  {
   "cell_type": "markdown",
   "metadata": {},
   "source": [
    "Now suppose you wanted to find a linear function that fits to this data.  Here is how you would do it: (Pay careful attention to the comments to see what each line does.)\n",
    "\n"
   ]
  },
  {
   "cell_type": "code",
   "execution_count": 3,
   "metadata": {},
   "outputs": [
    {
     "name": "stdout",
     "output_type": "stream",
     "text": [
      "1.7684009937213572\n",
      "8.38012386377062\n"
     ]
    }
   ],
   "source": [
    "# This is how you define a function in python.\n",
    "# A function is something that takes some inputs\n",
    "# and returns an output.\n",
    "# In this case, 'func' is the name that I chose for the function. \n",
    "# 't'(time), 'm'(slope), and 'b'(y-intercept)\n",
    "# are all variables that must be passed in when\n",
    "# this function is called.\n",
    "#\n",
    "# The 'return' statement specifies what the function\n",
    "# will return \n",
    "def func(t,m,b):\n",
    "    return m * t + b\n",
    "\n",
    "import scipy.optimize as opt \n",
    "# The 'curve_fit' function takes as argument:\n",
    "# 1- the name of the function that we are going to fit to the data\n",
    "# 2- The data set for the independent variable (horizontal axis)\n",
    "# 3- The data set for the dependent variable (vertical axis)\n",
    "#\n",
    "#  This function will then return the values for 'm' and 'b'\n",
    "# along with the uncertainties in those values.\n",
    "# Note that the fitting function can have as many\n",
    "# fit parameters as you need (here we had two) and the\n",
    "# curve_fit function will return values for all of them\n",
    "fitparams = opt.curve_fit(func,t,v)\n",
    "m = fitparams[0][0]\n",
    "b = fitparams[0][1]\n",
    "print(m)\n",
    "print(b)"
   ]
  },
  {
   "cell_type": "markdown",
   "metadata": {},
   "source": [
    "In this examples, the function we are looking for has slope 1.768 and y-intercept 8.38.  Let's see if we can plot it on top of the data to verify that it really is a good fit."
   ]
  },
  {
   "cell_type": "code",
   "execution_count": 18,
   "metadata": {},
   "outputs": [
    {
     "data": {
      "image/png": "[encoded data removed]",
      "text/plain": [
       "<Figure size 432x288 with 1 Axes>"
      ]
     },
     "metadata": {
      "needs_background": "light"
     },
     "output_type": "display_data"
    }
   ],
   "source": [
    "from numpy import arange\n",
    "pyplot.plot(t,v,'.',ms=20)\n",
    "tDense = arange(0,16,.1)\n",
    "vFunc = m * tDense + b\n",
    "pyplot.plot(tDense,vFunc)\n",
    "pyplot.show()"
   ]
  },
  {
   "cell_type": "markdown",
   "metadata": {},
   "source": [
    "Sure enough. Looks like a good fit.  Now comes the fun part.  We just fit velocity vs. time data.  Can you draw on your physics knowledge and think of an equation that is relevant to this information:\n",
    "\n",
    "$$v_f = v_i + a \\Delta t$$\n",
    "\n",
    "Can you see that this is a linear function?  The slope of this function is the acceleration and the y-intercept is the initial velocity.    Hence, we can conclude that:\n",
    "\n",
    "$$a = 1.768 \\text{ m/s}^2$$  \n",
    "$$v_i = 8.38  \\text{ m/s}$$"
   ]
  },
  {
   "cell_type": "markdown",
   "metadata": {},
   "source": [
    "## Your problem\n",
    "\n",
    "One experimental method for measuring the strength of a magnetic field is by balancing magnetic forces against known mechanical forces.  Suppose you place a $12$-cm-long rigid metal rod on a frictionless, horizontal surface.  You then attach two nonmagnetic springs, one at each end, with spring constants of $1.3$ N/m to the rod.  The rod is oriented horizontally (along the x axis) and you then apply an unknown magnetic field perpendicular to the rod (along the y axis).  You then connect the two ends of the rod with wires so you can send a current through the wire and observe the deflection of the rod due  to the magnetic force.  You steadily increase the current in the rod and observe the following data:\n",
    "\n",
    "  \n",
    "  \n",
    "| Current (A) | Deflection (mm) |\n",
    "| ----------- | --------------- |\n",
    "|1.0           |               4|\n",
    "|2.0           |               9|\n",
    "|3.0           |               12|\n",
    "|4.0           |               15|\n",
    "|5.0           |               21|\n",
    "\n",
    "\n",
    "\n",
    "1. Using your knowledge of magnetic forces, choose a function to fit this data to.   Then modify the code from above to perform the fit. Hint: Draw a free-body diagram for the rod.  There are three forces: two spring forces and one magnetic force.\n",
    "2. Plot the fit on top of the data (just like we did above) to verify that the fit is good.\n",
    "3. From the fit parameters, determine the strength of the magnetic field.  \n",
    "\n",
    "\n",
    "Note: You should find that the strength of the magnetic field is $|\\vec{B}| \\approx 87$ mT.\n",
    "\n"
   ]
  },
  {
   "cell_type": "code",
   "execution_count": null,
   "metadata": {},
   "outputs": [],
   "source": []
  }
 ],
 "metadata": {
  "kernelspec": {
   "display_name": "Python 3",
   "language": "python",
   "name": "python3"
  },
  "language_info": {
   "codemirror_mode": {
    "name": "ipython",
    "version": 3
   },
   "file_extension": ".py",
   "mimetype": "text/x-python",
   "name": "python",
   "nbconvert_exporter": "python",
   "pygments_lexer": "ipython3",
   "version": "3.7.6"
  }
 },
 "nbformat": 4,
 "nbformat_minor": 4
}
