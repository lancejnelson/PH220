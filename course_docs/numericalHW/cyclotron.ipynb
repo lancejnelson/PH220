{
 "cells": [
  {
   "cell_type": "markdown",
   "metadata": {},
   "source": [
    "# Overview\n",
    "\n",
    "When a charged particle is projected into a uniform magnetic field, the trajectory of the particle is helical, with the axis of the helix pointing in the same direction as the magnetic field.  Let's assume that a positively charged particle ($q = 1.602 \\times 10^{-19}$ C $m = 9.109 \\times 10^{-23}$ kg) is shot into a constant magnetic field given by:\n",
    "\n",
    "$$\\vec{B} = 0.03 \\hat{k} \\text{ T}$$\n",
    "\n",
    "The initial velocity and position of the particle are given by:\n",
    "\n",
    "$$ \\vec{r} = 5.5 \\hat{j} \\text{ m}$$\n",
    "$$ \\vec{v} = 3 \\times 10^2 \\hat{i} + 10 \\hat{k} \\text{ m/s} $$\n",
    "\n",
    "The freqency of rotation for the charged particle can be found by following the derivation below:\n",
    "\n",
    "$$q \\vec{v} \\times \\vec{B} = {m v_x^2\\over r}$$\n",
    "$$q v_xB = {m v_x^2\\over r}$$\n",
    "$$q B = {m v_x\\over r}$$\n",
    "$${q B r\\over m} = v_x$$\n",
    "$${q B r\\over m} = \\omega r$$\n",
    "$${q B \\over m} = \\omega $$\n",
    "$${q B \\over m} = 2 \\pi f $$\n",
    "$${q B \\over 2 \\pi m} = f $$\n",
    "\n",
    "\n",
    "\n",
    "## Your problem\n",
    "\n",
    "1. Add comments next to each line in the derivation above to explain what happened at each step. (If you double click this cell, you'll be able to edit the text)\n",
    "2. Below you will find a code to plot the trajectory of this particle.  Several important lines are missing. (I've made a comment next to every missing line)  Find them and add the appropriate code until you get a result that makes sense.\n",
    "3.  Using the formula above for frequency, hypothesize about what you could change to speed up the frequency.  Then test your hypothesis\n",
    "4.  Make sure all lines in the code are commented.\n",
    "\n",
    "\n",
    "\n",
    "\n"
   ]
  },
  {
   "cell_type": "code",
   "execution_count": null,
   "metadata": {
    "scrolled": false
   },
   "outputs": [],
   "source": [
    "\n",
    "from numpy import cross,array\n",
    "from numpy.linalg import norm\n",
    "from matplotlib import pyplot as plt\n",
    "from mpl_toolkits.mplot3d import axes3d\n",
    "\n",
    "\n",
    "\n",
    "\n",
    "\n",
    "\n",
    "v = array([3e2,0,10])\n",
    "normV = norm(v)\n",
    "t = 0\n",
    "dt = 0.0001\n",
    "#Several missing lines here\n",
    "\n",
    "\n",
    "fig = plt.figure(figsize = (15,15))  # initialize a figure object\n",
    "ax1 = fig.add_subplot(111,projection = '3d')  # Let's make it a 3d plot\n",
    "\n",
    "while t < 3:\n",
    "    # Need to calculate the magnetic force here\n",
    "    # Need to update the velocity here.\n",
    "    v = v/norm(v) * normV # Force the velocity vector to not change length.\n",
    "    r = r + v * dt\n",
    "    t = t + dt\n",
    "    ax1.plot(r[0],r[1],r[2],'b.')\n",
    "ax1.set_xlim(-6,6)\n",
    "ax1.set_ylim(-6,6)\n",
    "plt.show()\n",
    "    "
   ]
  },
  {
   "cell_type": "code",
   "execution_count": null,
   "metadata": {},
   "outputs": [],
   "source": []
  }
 ],
 "metadata": {
  "kernelspec": {
   "display_name": "Python 3",
   "language": "python",
   "name": "python3"
  },
  "language_info": {
   "codemirror_mode": {
    "name": "ipython",
    "version": 3
   },
   "file_extension": ".py",
   "mimetype": "text/x-python",
   "name": "python",
   "nbconvert_exporter": "python",
   "pygments_lexer": "ipython3",
   "version": "3.7.6"
  }
 },
 "nbformat": 4,
 "nbformat_minor": 4
}
